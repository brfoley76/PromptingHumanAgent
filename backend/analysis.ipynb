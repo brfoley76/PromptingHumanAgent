{
 "cells": [
  {
   "cell_type": "markdown",
   "metadata": {},
   "source": [
    "# Agentic Learning Platform - Database Analysis\n",
    "\n",
    "This notebook provides tools for exploring and analyzing student performance data from the learning platform.\n",
    "\n",
    "## Database Schema\n",
    "\n",
    "- **students**: Student profiles (name, grade_level)\n",
    "- **sessions**: Learning sessions (start_time, end_time, module_id)\n",
    "- **activity_attempts**: Quiz attempts (score, total, difficulty, item_results)\n",
    "- **chat_messages**: Conversation history between student and agent"
   ]
  },
  {
   "cell_type": "markdown",
   "metadata": {},
   "source": [
    "## Setup"
   ]
  },
  {
   "cell_type": "code",
   "execution_count": 2,
   "metadata": {},
   "outputs": [
    {
     "name": "stdout",
     "output_type": "stream",
     "text": [
      "Database: learning.db\n",
      "Exists: True\n"
     ]
    }
   ],
   "source": [
    "# Import libraries\n",
    "import sqlite3\n",
    "import pandas as pd\n",
    "import matplotlib.pyplot as plt\n",
    "import seaborn as sns\n",
    "import json\n",
    "from datetime import datetime\n",
    "from pathlib import Path\n",
    "\n",
    "# Set up plotting style\n",
    "sns.set_style('whitegrid')\n",
    "plt.rcParams['figure.figsize'] = (12, 6)\n",
    "\n",
    "# Database path\n",
    "DB_PATH = 'learning.db'\n",
    "\n",
    "print(f\"Database: {DB_PATH}\")\n",
    "print(f\"Exists: {Path(DB_PATH).exists()}\")"
   ]
  },
  {
   "cell_type": "markdown",
   "metadata": {},
   "source": [
    "## Database Connection"
   ]
  },
  {
   "cell_type": "code",
   "execution_count": 3,
   "metadata": {},
   "outputs": [
    {
     "name": "stdout",
     "output_type": "stream",
     "text": [
      "✓ Connected to database\n"
     ]
    }
   ],
   "source": [
    "# Connect to database\n",
    "conn = sqlite3.connect(DB_PATH)\n",
    "\n",
    "# Helper function to run queries\n",
    "def query(sql, params=None):\n",
    "    \"\"\"Execute SQL query and return DataFrame\"\"\"\n",
    "    if params:\n",
    "        return pd.read_sql_query(sql, conn, params=params)\n",
    "    return pd.read_sql_query(sql, conn)\n",
    "\n",
    "print(\"✓ Connected to database\")"
   ]
  },
  {
   "cell_type": "markdown",
   "metadata": {},
   "source": [
    "## 1. Basic Data Exploration"
   ]
  },
  {
   "cell_type": "markdown",
   "metadata": {},
   "source": [
    "### View All Tables"
   ]
  },
  {
   "cell_type": "code",
   "execution_count": 4,
   "metadata": {},
   "outputs": [
    {
     "name": "stdout",
     "output_type": "stream",
     "text": [
      "Tables in database:\n"
     ]
    },
    {
     "data": {
      "text/html": [
       "<div>\n",
       "<style scoped>\n",
       "    .dataframe tbody tr th:only-of-type {\n",
       "        vertical-align: middle;\n",
       "    }\n",
       "\n",
       "    .dataframe tbody tr th {\n",
       "        vertical-align: top;\n",
       "    }\n",
       "\n",
       "    .dataframe thead th {\n",
       "        text-align: right;\n",
       "    }\n",
       "</style>\n",
       "<table border=\"1\" class=\"dataframe\">\n",
       "  <thead>\n",
       "    <tr style=\"text-align: right;\">\n",
       "      <th></th>\n",
       "      <th>name</th>\n",
       "    </tr>\n",
       "  </thead>\n",
       "  <tbody>\n",
       "    <tr>\n",
       "      <th>0</th>\n",
       "      <td>activity_attempts</td>\n",
       "    </tr>\n",
       "    <tr>\n",
       "      <th>1</th>\n",
       "      <td>chat_messages</td>\n",
       "    </tr>\n",
       "    <tr>\n",
       "      <th>2</th>\n",
       "      <td>sessions</td>\n",
       "    </tr>\n",
       "    <tr>\n",
       "      <th>3</th>\n",
       "      <td>students</td>\n",
       "    </tr>\n",
       "  </tbody>\n",
       "</table>\n",
       "</div>"
      ],
      "text/plain": [
       "                name\n",
       "0  activity_attempts\n",
       "1      chat_messages\n",
       "2           sessions\n",
       "3           students"
      ]
     },
     "metadata": {},
     "output_type": "display_data"
    }
   ],
   "source": [
    "# List all tables\n",
    "tables = query(\"\"\"\n",
    "    SELECT name FROM sqlite_master \n",
    "    WHERE type='table'\n",
    "    ORDER BY name\n",
    "\"\"\")\n",
    "\n",
    "print(\"Tables in database:\")\n",
    "display(tables)"
   ]
  },
  {
   "cell_type": "code",
   "execution_count": 19,
   "metadata": {},
   "outputs": [
    {
     "name": "stdout",
     "output_type": "stream",
     "text": [
      "\"[{\\\"problem_id\\\": 1, \\\"expression\\\": \\\"3 \\\\u00d7 4\\\", \\\"correct_answer\\\": 12, \\\"student_answer\\\": 12, \\\"correct\\\": true, \\\"used_retry\\\": false}, {\\\"problem_id\\\": 2, \\\"expression\\\": \\\"7 \\\\u00d7 8\\\", \\\"correct_answer\\\": 56, \\\"student_answer\\\": 56, \\\"correct\\\": true, \\\"used_retry\\\": true}, {\\\"problem_id\\\": 3, \\\"expression\\\": \\\"6 \\\\u00d7 12\\\", \\\"correct_answer\\\": 72, \\\"student_answer\\\": 72, \\\"correct\\\": true, \\\"used_retry\\\": false}, {\\\"problem_id\\\": 4, \\\"expression\\\": \\\"9 \\\\u00d7 5\\\", \\\"correct_answer\\\": 45, \\\"student_answer\\\": 45, \\\"correct\\\": true, \\\"used_retry\\\": false}, {\\\"problem_id\\\": 5, \\\"expression\\\": \\\"8 \\\\u00d7 3\\\", \\\"correct_answer\\\": 24, \\\"student_answer\\\": 24, \\\"correct\\\": true, \\\"used_retry\\\": true}]\"\n",
      "\"[{\\\"problem_id\\\": 1, \\\"expression\\\": \\\"3 \\\\u00d7 4\\\", \\\"correct_answer\\\": 12, \\\"student_answer\\\": 12, \\\"correct\\\": true, \\\"used_retry\\\": false}, {\\\"problem_id\\\": 2, \\\"expression\\\": \\\"7 \\\\u00d7 8\\\", \\\"correct_answer\\\": 56, \\\"student_answer\\\": 56, \\\"correct\\\": true, \\\"used_retry\\\": true}, {\\\"problem_id\\\": 3, \\\"expression\\\": \\\"6 \\\\u00d7 12\\\", \\\"correct_answer\\\": 72, \\\"student_answer\\\": 72, \\\"correct\\\": true, \\\"used_retry\\\": false}, {\\\"problem_id\\\": 4, \\\"expression\\\": \\\"9 \\\\u00d7 5\\\", \\\"correct_answer\\\": 45, \\\"student_answer\\\": 45, \\\"correct\\\": true, \\\"used_retry\\\": false}, {\\\"problem_id\\\": 5, \\\"expression\\\": \\\"8 \\\\u00d7 3\\\", \\\"correct_answer\\\": 24, \\\"student_answer\\\": 24, \\\"correct\\\": true, \\\"used_retry\\\": false}]\"\n"
     ]
    },
    {
     "name": "stderr",
     "output_type": "stream",
     "text": [
      "/var/folders/vt/q4zq5m9x3zs7dl6ysjlz9lsc0000gn/T/ipykernel_89977/2744663576.py:6: FutureWarning: Series.__getitem__ treating keys as positions is deprecated. In a future version, integer keys will always be treated as labels (consistent with DataFrame behavior). To access a value by position, use `ser.iloc[pos]`\n",
      "  print(row[0])\n"
     ]
    }
   ],
   "source": [
    "act = query(\"\"\"\n",
    "    SELECT item_results from activity_attempts\n",
    "\"\"\")\n",
    "\n",
    "for index, row in act.iterrows():\n",
    "    print(row[0])"
   ]
  },
  {
   "cell_type": "markdown",
   "metadata": {},
   "source": [
    "### Students"
   ]
  },
  {
   "cell_type": "code",
   "execution_count": null,
   "metadata": {},
   "outputs": [],
   "source": [
    "# View all students\n",
    "students = query(\"\"\"\n",
    "    SELECT \n",
    "        student_id,\n",
    "        name,\n",
    "        grade_level,\n",
    "        created_at,\n",
    "        COUNT(DISTINCT s.session_id) as total_sessions,\n",
    "        COUNT(DISTINCT a.attempt_id) as total_attempts\n",
    "    FROM students st\n",
    "    LEFT JOIN sessions s ON st.student_id = s.student_id\n",
    "    LEFT JOIN activity_attempts a ON st.student_id = a.student_id\n",
    "    GROUP BY st.student_id\n",
    "    ORDER BY created_at DESC\n",
    "\"\"\")\n",
    "\n",
    "print(f\"Total Students: {len(students)}\")\n",
    "display(students)"
   ]
  },
  {
   "cell_type": "markdown",
   "metadata": {},
   "source": [
    "### Sessions"
   ]
  },
  {
   "cell_type": "code",
   "execution_count": null,
   "metadata": {},
   "outputs": [],
   "source": [
    "# View all sessions with student names\n",
    "sessions = query(\"\"\"\n",
    "    SELECT \n",
    "        s.session_id,\n",
    "        st.name as student_name,\n",
    "        s.module_id,\n",
    "        s.start_time,\n",
    "        s.end_time,\n",
    "        COUNT(a.attempt_id) as num_attempts\n",
    "    FROM sessions s\n",
    "    JOIN students st ON s.student_id = st.student_id\n",
    "    LEFT JOIN activity_attempts a ON s.session_id = a.session_id\n",
    "    GROUP BY s.session_id\n",
    "    ORDER BY s.start_time DESC\n",
    "\"\"\")\n",
    "\n",
    "print(f\"Total Sessions: {len(sessions)}\")\n",
    "display(sessions.head(10))"
   ]
  },
  {
   "cell_type": "markdown",
   "metadata": {},
   "source": [
    "### Activity Attempts"
   ]
  },
  {
   "cell_type": "code",
   "execution_count": null,
   "metadata": {},
   "outputs": [],
   "source": [
    "# View all activity attempts\n",
    "attempts = query(\"\"\"\n",
    "    SELECT \n",
    "        a.attempt_id,\n",
    "        st.name as student_name,\n",
    "        a.module,\n",
    "        a.activity,\n",
    "        a.score,\n",
    "        a.total,\n",
    "        ROUND(a.score * 100.0 / a.total, 1) as percentage,\n",
    "        a.difficulty,\n",
    "        a.date\n",
    "    FROM activity_attempts a\n",
    "    JOIN students st ON a.student_id = st.student_id\n",
    "    ORDER BY a.date DESC\n",
    "\"\"\")\n",
    "\n",
    "print(f\"Total Attempts: {len(attempts)}\")\n",
    "display(attempts.head(10))"
   ]
  },
  {
   "cell_type": "markdown",
   "metadata": {},
   "source": [
    "## 2. Performance Analytics"
   ]
  },
  {
   "cell_type": "markdown",
   "metadata": {},
   "source": [
    "### Overall Statistics"
   ]
  },
  {
   "cell_type": "code",
   "execution_count": null,
   "metadata": {},
   "outputs": [],
   "source": [
    "# Calculate overall statistics\n",
    "stats = query(\"\"\"\n",
    "    SELECT \n",
    "        COUNT(DISTINCT student_id) as total_students,\n",
    "        COUNT(DISTINCT session_id) as total_sessions,\n",
    "        COUNT(*) as total_attempts,\n",
    "        ROUND(AVG(score * 100.0 / total), 1) as avg_percentage,\n",
    "        ROUND(MIN(score * 100.0 / total), 1) as min_percentage,\n",
    "        ROUND(MAX(score * 100.0 / total), 1) as max_percentage\n",
    "    FROM activity_attempts\n",
    "\"\"\")\n",
    "\n",
    "print(\"\\n📊 Overall Statistics\")\n",
    "print(\"=\" * 50)\n",
    "display(stats)"
   ]
  },
  {
   "cell_type": "markdown",
   "metadata": {},
   "source": [
    "### Performance by Student"
   ]
  },
  {
   "cell_type": "code",
   "execution_count": null,
   "metadata": {},
   "outputs": [],
   "source": [
    "# Performance by student\n",
    "student_performance = query(\"\"\"\n",
    "    SELECT \n",
    "        st.name as student_name,\n",
    "        COUNT(*) as num_attempts,\n",
    "        ROUND(AVG(a.score * 100.0 / a.total), 1) as avg_percentage,\n",
    "        SUM(a.score) as total_correct,\n",
    "        SUM(a.total) as total_questions,\n",
    "        MIN(a.date) as first_attempt,\n",
    "        MAX(a.date) as last_attempt\n",
    "    FROM activity_attempts a\n",
    "    JOIN students st ON a.student_id = st.student_id\n",
    "    GROUP BY st.student_id\n",
    "    ORDER BY avg_percentage DESC\n",
    "\"\"\")\n",
    "\n",
    "print(\"\\n👥 Performance by Student\")\n",
    "print(\"=\" * 50)\n",
    "display(student_performance)"
   ]
  },
  {
   "cell_type": "markdown",
   "metadata": {},
   "source": [
    "### Performance by Module"
   ]
  },
  {
   "cell_type": "code",
   "execution_count": null,
   "metadata": {},
   "outputs": [],
   "source": [
    "# Performance by module\n",
    "module_performance = query(\"\"\"\n",
    "    SELECT \n",
    "        module,\n",
    "        activity,\n",
    "        COUNT(*) as num_attempts,\n",
    "        ROUND(AVG(score * 100.0 / total), 1) as avg_percentage,\n",
    "        COUNT(DISTINCT student_id) as num_students\n",
    "    FROM activity_attempts\n",
    "    GROUP BY module, activity\n",
    "    ORDER BY module, activity\n",
    "\"\"\")\n",
    "\n",
    "print(\"\\n📚 Performance by Module\")\n",
    "print(\"=\" * 50)\n",
    "display(module_performance)"
   ]
  },
  {
   "cell_type": "markdown",
   "metadata": {},
   "source": [
    "## 3. Detailed Item Analysis"
   ]
  },
  {
   "cell_type": "markdown",
   "metadata": {},
   "source": [
    "### Extract Item-Level Results"
   ]
  },
  {
   "cell_type": "code",
   "execution_count": null,
   "metadata": {},
   "outputs": [],
   "source": [
    "# Get all attempts with item results\n",
    "attempts_with_items = query(\"\"\"\n",
    "    SELECT \n",
    "        a.attempt_id,\n",
    "        st.name as student_name,\n",
    "        a.module,\n",
    "        a.item_results,\n",
    "        a.date\n",
    "    FROM activity_attempts a\n",
    "    JOIN students st ON a.student_id = st.student_id\n",
    "    ORDER BY a.date DESC\n",
    "\"\"\")\n",
    "\n",
    "# Parse JSON item results\n",
    "item_data = []\n",
    "for _, row in attempts_with_items.iterrows():\n",
    "    try:\n",
    "        items = json.loads(row['item_results'])\n",
    "        for item in items:\n",
    "            item_data.append({\n",
    "                'student_name': row['student_name'],\n",
    "                'module': row['module'],\n",
    "                'problem_id': item.get('problem_id'),\n",
    "                'expression': item.get('expression'),\n",
    "                'correct_answer': item.get('correct_answer'),\n",
    "                'student_answer': item.get('student_answer'),\n",
    "                'correct': item.get('correct'),\n",
    "                'used_retry': item.get('used_retry', False),\n",
    "                'date': row['date']\n",
    "            })\n",
    "    except:\n",
    "        pass\n",
    "\n",
    "items_df = pd.DataFrame(item_data)\n",
    "\n",
    "if len(items_df) > 0:\n",
    "    print(f\"\\n📝 Item-Level Results: {len(items_df)} problems attempted\")\n",
    "    display(items_df.head(10))\n",
    "else:\n",
    "    print(\"No item-level data available yet. Run some quizzes first!\")"
   ]
  },
  {
   "cell_type": "markdown",
   "metadata": {},
   "source": [
    "### Problem Difficulty Analysis"
   ]
  },
  {
   "cell_type": "code",
   "execution_count": null,
   "metadata": {},
   "outputs": [],
   "source": [
    "# Analyze which problems are hardest\n",
    "if len(items_df) > 0:\n",
    "    problem_stats = items_df.groupby('expression').agg({\n",
    "        'correct': ['count', 'sum', 'mean'],\n",
    "        'used_retry': 'sum'\n",
    "    }).round(3)\n",
    "    \n",
    "    problem_stats.columns = ['attempts', 'correct', 'success_rate', 'retries_used']\n",
    "    problem_stats = problem_stats.sort_values('success_rate')\n",
    "    \n",
    "    print(\"\\n🎯 Problem Difficulty (sorted by success rate)\")\n",
    "    print(\"=\" * 50)\n",
    "    display(problem_stats)\n",
    "else:\n",
    "    print(\"No problem data available yet.\")"
   ]
  },
  {
   "cell_type": "markdown",
   "metadata": {},
   "source": [
    "## 4. Visualizations"
   ]
  },
  {
   "cell_type": "markdown",
   "metadata": {},
   "source": [
    "### Score Distribution"
   ]
  },
  {
   "cell_type": "code",
   "execution_count": null,
   "metadata": {},
   "outputs": [],
   "source": [
    "if len(attempts) > 0:\n",
    "    plt.figure(figsize=(10, 6))\n",
    "    plt.hist(attempts['percentage'], bins=20, edgecolor='black', alpha=0.7)\n",
    "    plt.xlabel('Score (%)')\n",
    "    plt.ylabel('Number of Attempts')\n",
    "    plt.title('Distribution of Quiz Scores')\n",
    "    plt.axvline(attempts['percentage'].mean(), color='red', linestyle='--', \n",
    "                label=f'Mean: {attempts[\"percentage\"].mean():.1f}%')\n",
    "    plt.legend()\n",
    "    plt.grid(axis='y', alpha=0.3)\n",
    "    plt.show()\n",
    "else:\n",
    "    print(\"No data to visualize yet.\")"
   ]
  },
  {
   "cell_type": "markdown",
   "metadata": {},
   "source": [
    "### Performance Over Time"
   ]
  },
  {
   "cell_type": "code",
   "execution_count": null,
   "metadata": {},
   "outputs": [],
   "source": [
    "if len(attempts) > 0:\n",
    "    # Convert date to datetime\n",
    "    attempts['date'] = pd.to_datetime(attempts['date'])\n",
    "    \n",
    "    # Plot performance over time for each student\n",
    "    plt.figure(figsize=(12, 6))\n",
    "    for student in attempts['student_name'].unique():\n",
    "        student_data = attempts[attempts['student_name'] == student].sort_values('date')\n",
    "        plt.plot(student_data['date'], student_data['percentage'], \n",
    "                marker='o', label=student, linewidth=2)\n",
    "    \n",
    "    plt.xlabel('Date')\n",
    "    plt.ylabel('Score (%)')\n",
    "    plt.title('Student Performance Over Time')\n",
    "    plt.legend()\n",
    "    plt.grid(True, alpha=0.3)\n",
    "    plt.xticks(rotation=45)\n",
    "    plt.tight_layout()\n",
    "    plt.show()\n",
    "else:\n",
    "    print(\"No data to visualize yet.\")"
   ]
  },
  {
   "cell_type": "markdown",
   "metadata": {},
   "source": [
    "### Problem Success Rates"
   ]
  },
  {
   "cell_type": "code",
   "execution_count": null,
   "metadata": {},
   "outputs": [],
   "source": [
    "if len(items_df) > 0:\n",
    "    # Calculate success rate by problem\n",
    "    problem_success = items_df.groupby('expression')['correct'].agg(['sum', 'count'])\n",
    "    problem_success['success_rate'] = problem_success['sum'] / problem_success['count'] * 100\n",
    "    problem_success = problem_success.sort_values('success_rate')\n",
    "    \n",
    "    # Plot\n",
    "    plt.figure(figsize=(10, 6))\n",
    "    plt.barh(range(len(problem_success)), problem_success['success_rate'])\n",
    "    plt.yticks(range(len(problem_success)), problem_success.index)\n",
    "    plt.xlabel('Success Rate (%)')\n",
    "    plt.title('Success Rate by Problem')\n",
    "    plt.axvline(50, color='red', linestyle='--', alpha=0.5, label='50%')\n",
    "    plt.legend()\n",
    "    plt.grid(axis='x', alpha=0.3)\n",
    "    plt.tight_layout()\n",
    "    plt.show()\n",
    "else:\n",
    "    print(\"No problem data available yet.\")"
   ]
  },
  {
   "cell_type": "markdown",
   "metadata": {},
   "source": [
    "## 5. Chat Message Analysis"
   ]
  },
  {
   "cell_type": "code",
   "execution_count": null,
   "metadata": {},
   "outputs": [],
   "source": [
    "# View chat messages\n",
    "messages = query(\"\"\"\n",
    "    SELECT \n",
    "        m.message_id,\n",
    "        st.name as student_name,\n",
    "        m.agent_type,\n",
    "        m.sender,\n",
    "        m.message,\n",
    "        m.timestamp\n",
    "    FROM chat_messages m\n",
    "    JOIN sessions s ON m.session_id = s.session_id\n",
    "    JOIN students st ON s.student_id = st.student_id\n",
    "    ORDER BY m.timestamp DESC\n",
    "    LIMIT 20\n",
    "\"\"\")\n",
    "\n",
    "if len(messages) > 0:\n",
    "    print(f\"\\n💬 Recent Chat Messages: {len(messages)}\")\n",
    "    display(messages)\n",
    "else:\n",
    "    print(\"No chat messages recorded yet.\")"
   ]
  },
  {
   "cell_type": "markdown",
   "metadata": {},
   "source": [
    "## 6. Custom Queries"
   ]
  },
  {
   "cell_type": "markdown",
   "metadata": {},
   "source": [
    "### Query Template\n",
    "\n",
    "Use this cell to run your own custom SQL queries:"
   ]
  },
  {
   "cell_type": "code",
   "execution_count": null,
   "metadata": {},
   "outputs": [],
   "source": [
    "# Custom query - modify as needed\n",
    "custom_query = \"\"\"\n",
    "    SELECT * FROM students\n",
    "    LIMIT 10\n",
    "\"\"\"\n",
    "\n",
    "result = query(custom_query)\n",
    "display(result)"
   ]
  },
  {
   "cell_type": "markdown",
   "metadata": {},
   "source": [
    "## 7. Export Data"
   ]
  },
  {
   "cell_type": "code",
   "execution_count": null,
   "metadata": {},
   "outputs": [],
   "source": [
    "# Export data to CSV files\n",
    "def export_data():\n",
    "    \"\"\"Export all tables to CSV files\"\"\"\n",
    "    export_dir = Path('exports')\n",
    "    export_dir.mkdir(exist_ok=True)\n",
    "    \n",
    "    # Export each table\n",
    "    tables_to_export = {\n",
    "        'students': 'SELECT * FROM students',\n",
    "        'sessions': 'SELECT * FROM sessions',\n",
    "        'activity_attempts': 'SELECT * FROM activity_attempts',\n",
    "        'chat_messages': 'SELECT * FROM chat_messages'\n",
    "    }\n",
    "    \n",
    "    for table_name, sql in tables_to_export.items():\n",
    "        df = query(sql)\n",
    "        filepath = export_dir / f'{table_name}.csv'\n",
    "        df.to_csv(filepath, index=False)\n",
    "        print(f\"✓ Exported {table_name} to {filepath}\")\n",
    "    \n",
    "    print(f\"\\n✓ All data exported to {export_dir}/\")\n",
    "\n",
    "# Uncomment to export:\n",
    "# export_data()"
   ]
  },
  {
   "cell_type": "markdown",
   "metadata": {},
   "source": [
    "## Cleanup"
   ]
  },
  {
   "cell_type": "code",
   "execution_count": null,
   "metadata": {},
   "outputs": [],
   "source": [
    "# Close database connection\n",
    "conn.close()\n",
    "print(\"✓ Database connection closed\")"
   ]
  }
 ],
 "metadata": {
  "kernelspec": {
   "display_name": "Python 3 (ipykernel)",
   "language": "python",
   "name": "python3"
  },
  "language_info": {
   "codemirror_mode": {
    "name": "ipython",
    "version": 3
   },
   "file_extension": ".py",
   "mimetype": "text/x-python",
   "name": "python",
   "nbconvert_exporter": "python",
   "pygments_lexer": "ipython3",
   "version": "3.9.6"
  }
 },
 "nbformat": 4,
 "nbformat_minor": 4
}
